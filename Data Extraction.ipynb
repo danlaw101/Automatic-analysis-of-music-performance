{
 "cells": [
  {
   "cell_type": "code",
   "execution_count": 1,
   "metadata": {},
   "outputs": [],
   "source": [
    "import os\n",
    "import librosa\n",
    "import itertools\n",
    "import numpy as np\n",
    "import pandas as pd\n",
    "import matplotlib.pyplot as plt\n"
   ]
  },
  {
   "cell_type": "code",
   "execution_count": 2,
   "metadata": {},
   "outputs": [],
   "source": [
    "gtzan_dir = 'GTZAN/genres_original/'"
   ]
  },
  {
   "cell_type": "code",
   "execution_count": 3,
   "metadata": {},
   "outputs": [],
   "source": [
    "genres = {'blues': 0, 'classical': 1, 'country': 2, 'disco': 3, 'hiphop': 4, \n",
    "          'jazz': 5, 'metal': 6, 'pop': 7, 'reggae': 8, 'rock': 9}\n"
   ]
  },
  {
   "cell_type": "code",
   "execution_count": 6,
   "metadata": {},
   "outputs": [],
   "source": [
    "def get_features(y, sr):\n",
    "    # Features to concatenate in the final dictionary  \n",
    "    features = {'centroid': None, 'rolloff': None, 'contrast': None, 'bandwidth': None, 'flatness': None,\n",
    "                'flux': None, 'rmse': None, 'zcr': None, 'chroma':None }\n",
    "    \n",
    "    # Using librosa to calculate the features\n",
    "    features['centroid'] = librosa.feature.spectral_centroid(y, sr=sr)\n",
    "    features['rolloff'] = librosa.feature.spectral_rolloff(y, sr=sr)\n",
    "    features['contrast'] = librosa.feature.spectral_contrast(y, sr=sr)\n",
    "    features['bandwidth'] = librosa.feature.spectral_bandwidth(y, sr=sr)\n",
    "    features['flatness'] = librosa.feature.spectral_flatness(y)\n",
    "    features['zcr'] = librosa.feature.zero_crossing_rate(y)\n",
    "    features['rmse'] = librosa.feature.rms(y)\n",
    "    features['flux'] = librosa.onset.onset_strength(y=y, sr=sr)\n",
    "    features['chroma'] = librosa.feature.chroma_stft(y=y, sr=sr)\n",
    " \n",
    "    \n",
    "    # MFCC treatment\n",
    "    mfcc = librosa.feature.mfcc(y,n_mfcc=21)\n",
    "    for idx, v_mfcc in enumerate(mfcc):\n",
    "        features['mfcc_{}'.format(idx)] = v_mfcc\n",
    "        \n",
    "    # Get statistics from the vectors\n",
    "    def get_moments(descriptors):\n",
    "        result = {}\n",
    "        for k, v in descriptors.items():\n",
    "            result['{}_max'.format(k)] = np.max(v)\n",
    "            result['{}_min'.format(k)] = np.min(v)\n",
    "            result['{}_mean'.format(k)] = np.mean(v)\n",
    "            result['{}_std'.format(k)] = np.std(v)\n",
    "        return result\n",
    "    \n",
    "    dict_agg_features = get_moments(features)\n",
    "    dict_agg_features['tempo'] = librosa.beat.tempo(y, sr=sr)[0]\n",
    "    \n",
    "    return dict_agg_features"
   ]
  },
  {
   "cell_type": "code",
   "execution_count": 7,
   "metadata": {},
   "outputs": [],
   "source": [
    "def read_process_songs(src_dir, debug = True):    \n",
    "    # Empty array of dicts with the processed features from all files\n",
    "    arr_features = []\n",
    "\n",
    "    # Read files from the folders\n",
    "    for x,_ in genres.items():\n",
    "        folder = src_dir + x\n",
    "        \n",
    "        for root, subdirs, files in os.walk(folder):\n",
    "            for file in files:\n",
    "                # Read the audio file\n",
    "                file_name = folder + \"/\" + file\n",
    "                signal, sr = librosa.load(file_name, mono=True, duration=30)\n",
    "                \n",
    "                # Debug process\n",
    "                if debug:\n",
    "                    print(\"Reading file: {}\".format(file_name))\n",
    "                \n",
    "                # Append the result to the data structure\n",
    "                features = get_features(signal, sr)\n",
    "                features['genre'] = x\n",
    "                arr_features.append(features)\n",
    "    return arr_features\n"
   ]
  },
  {
   "cell_type": "code",
   "execution_count": 8,
   "metadata": {},
   "outputs": [
    {
     "name": "stderr",
     "output_type": "stream",
     "text": [
      "C:\\Users\\high-\\AppData\\Local\\Temp/ipykernel_2520/1805278335.py:7: FutureWarning: Pass y=[0.00732422 0.01660156 0.00762939 ... 0.18188477 0.1637268  0.15093994] as keyword args. From version 0.10 passing these as positional arguments will result in an error\n",
      "  features['centroid'] = librosa.feature.spectral_centroid(y, sr=sr)\n",
      "C:\\Users\\high-\\AppData\\Local\\Temp/ipykernel_2520/1805278335.py:8: FutureWarning: Pass y=[0.00732422 0.01660156 0.00762939 ... 0.18188477 0.1637268  0.15093994] as keyword args. From version 0.10 passing these as positional arguments will result in an error\n",
      "  features['rolloff'] = librosa.feature.spectral_rolloff(y, sr=sr)\n",
      "C:\\Users\\high-\\AppData\\Local\\Temp/ipykernel_2520/1805278335.py:9: FutureWarning: Pass y=[0.00732422 0.01660156 0.00762939 ... 0.18188477 0.1637268  0.15093994] as keyword args. From version 0.10 passing these as positional arguments will result in an error\n",
      "  features['contrast'] = librosa.feature.spectral_contrast(y, sr=sr)\n",
      "C:\\Users\\high-\\AppData\\Local\\Temp/ipykernel_2520/1805278335.py:10: FutureWarning: Pass y=[0.00732422 0.01660156 0.00762939 ... 0.18188477 0.1637268  0.15093994] as keyword args. From version 0.10 passing these as positional arguments will result in an error\n",
      "  features['bandwidth'] = librosa.feature.spectral_bandwidth(y, sr=sr)\n",
      "C:\\Users\\high-\\AppData\\Local\\Temp/ipykernel_2520/1805278335.py:11: FutureWarning: Pass y=[0.00732422 0.01660156 0.00762939 ... 0.18188477 0.1637268  0.15093994] as keyword args. From version 0.10 passing these as positional arguments will result in an error\n",
      "  features['flatness'] = librosa.feature.spectral_flatness(y)\n",
      "C:\\Users\\high-\\AppData\\Local\\Temp/ipykernel_2520/1805278335.py:13: FutureWarning: Pass y=[0.00732422 0.01660156 0.00762939 ... 0.18188477 0.1637268  0.15093994] as keyword args. From version 0.10 passing these as positional arguments will result in an error\n",
      "  features['rmse'] = librosa.feature.rms(y)\n",
      "C:\\Users\\high-\\AppData\\Local\\Temp/ipykernel_2520/1805278335.py:19: FutureWarning: Pass y=[0.00732422 0.01660156 0.00762939 ... 0.18188477 0.1637268  0.15093994] as keyword args. From version 0.10 passing these as positional arguments will result in an error\n",
      "  mfcc = librosa.feature.mfcc(y,n_mfcc=21)\n",
      "C:\\Users\\high-\\AppData\\Local\\Temp/ipykernel_2520/1805278335.py:34: FutureWarning: Pass y=[0.00732422 0.01660156 0.00762939 ... 0.18188477 0.1637268  0.15093994] as keyword args. From version 0.10 passing these as positional arguments will result in an error\n",
      "  dict_agg_features['tempo'] = librosa.beat.tempo(y, sr=sr)[0]\n",
      "C:\\Users\\high-\\AppData\\Local\\Temp/ipykernel_2520/1805278335.py:7: FutureWarning: Pass y=[0.00341797 0.00430298 0.00137329 ... 0.03152466 0.04238892 0.06607056] as keyword args. From version 0.10 passing these as positional arguments will result in an error\n",
      "  features['centroid'] = librosa.feature.spectral_centroid(y, sr=sr)\n",
      "C:\\Users\\high-\\AppData\\Local\\Temp/ipykernel_2520/1805278335.py:8: FutureWarning: Pass y=[0.00341797 0.00430298 0.00137329 ... 0.03152466 0.04238892 0.06607056] as keyword args. From version 0.10 passing these as positional arguments will result in an error\n",
      "  features['rolloff'] = librosa.feature.spectral_rolloff(y, sr=sr)\n",
      "C:\\Users\\high-\\AppData\\Local\\Temp/ipykernel_2520/1805278335.py:9: FutureWarning: Pass y=[0.00341797 0.00430298 0.00137329 ... 0.03152466 0.04238892 0.06607056] as keyword args. From version 0.10 passing these as positional arguments will result in an error\n",
      "  features['contrast'] = librosa.feature.spectral_contrast(y, sr=sr)\n",
      "C:\\Users\\high-\\AppData\\Local\\Temp/ipykernel_2520/1805278335.py:10: FutureWarning: Pass y=[0.00341797 0.00430298 0.00137329 ... 0.03152466 0.04238892 0.06607056] as keyword args. From version 0.10 passing these as positional arguments will result in an error\n",
      "  features['bandwidth'] = librosa.feature.spectral_bandwidth(y, sr=sr)\n",
      "C:\\Users\\high-\\AppData\\Local\\Temp/ipykernel_2520/1805278335.py:11: FutureWarning: Pass y=[0.00341797 0.00430298 0.00137329 ... 0.03152466 0.04238892 0.06607056] as keyword args. From version 0.10 passing these as positional arguments will result in an error\n",
      "  features['flatness'] = librosa.feature.spectral_flatness(y)\n",
      "C:\\Users\\high-\\AppData\\Local\\Temp/ipykernel_2520/1805278335.py:13: FutureWarning: Pass y=[0.00341797 0.00430298 0.00137329 ... 0.03152466 0.04238892 0.06607056] as keyword args. From version 0.10 passing these as positional arguments will result in an error\n",
      "  features['rmse'] = librosa.feature.rms(y)\n",
      "C:\\Users\\high-\\AppData\\Local\\Temp/ipykernel_2520/1805278335.py:19: FutureWarning: Pass y=[0.00341797 0.00430298 0.00137329 ... 0.03152466 0.04238892 0.06607056] as keyword args. From version 0.10 passing these as positional arguments will result in an error\n",
      "  mfcc = librosa.feature.mfcc(y,n_mfcc=21)\n",
      "C:\\Users\\high-\\AppData\\Local\\Temp/ipykernel_2520/1805278335.py:34: FutureWarning: Pass y=[0.00341797 0.00430298 0.00137329 ... 0.03152466 0.04238892 0.06607056] as keyword args. From version 0.10 passing these as positional arguments will result in an error\n",
      "  dict_agg_features['tempo'] = librosa.beat.tempo(y, sr=sr)[0]\n",
      "C:\\Users\\high-\\AppData\\Local\\Temp/ipykernel_2520/1805278335.py:7: FutureWarning: Pass y=[ 0.01901245  0.04769897  0.02941895 ... -0.3409729  -0.3360901\n",
      " -0.37509155] as keyword args. From version 0.10 passing these as positional arguments will result in an error\n",
      "  features['centroid'] = librosa.feature.spectral_centroid(y, sr=sr)\n",
      "C:\\Users\\high-\\AppData\\Local\\Temp/ipykernel_2520/1805278335.py:8: FutureWarning: Pass y=[ 0.01901245  0.04769897  0.02941895 ... -0.3409729  -0.3360901\n",
      " -0.37509155] as keyword args. From version 0.10 passing these as positional arguments will result in an error\n",
      "  features['rolloff'] = librosa.feature.spectral_rolloff(y, sr=sr)\n",
      "C:\\Users\\high-\\AppData\\Local\\Temp/ipykernel_2520/1805278335.py:9: FutureWarning: Pass y=[ 0.01901245  0.04769897  0.02941895 ... -0.3409729  -0.3360901\n",
      " -0.37509155] as keyword args. From version 0.10 passing these as positional arguments will result in an error\n",
      "  features['contrast'] = librosa.feature.spectral_contrast(y, sr=sr)\n",
      "C:\\Users\\high-\\AppData\\Local\\Temp/ipykernel_2520/1805278335.py:10: FutureWarning: Pass y=[ 0.01901245  0.04769897  0.02941895 ... -0.3409729  -0.3360901\n",
      " -0.37509155] as keyword args. From version 0.10 passing these as positional arguments will result in an error\n",
      "  features['bandwidth'] = librosa.feature.spectral_bandwidth(y, sr=sr)\n",
      "C:\\Users\\high-\\AppData\\Local\\Temp/ipykernel_2520/1805278335.py:11: FutureWarning: Pass y=[ 0.01901245  0.04769897  0.02941895 ... -0.3409729  -0.3360901\n",
      " -0.37509155] as keyword args. From version 0.10 passing these as positional arguments will result in an error\n",
      "  features['flatness'] = librosa.feature.spectral_flatness(y)\n",
      "C:\\Users\\high-\\AppData\\Local\\Temp/ipykernel_2520/1805278335.py:13: FutureWarning: Pass y=[ 0.01901245  0.04769897  0.02941895 ... -0.3409729  -0.3360901\n",
      " -0.37509155] as keyword args. From version 0.10 passing these as positional arguments will result in an error\n",
      "  features['rmse'] = librosa.feature.rms(y)\n",
      "C:\\Users\\high-\\AppData\\Local\\Temp/ipykernel_2520/1805278335.py:19: FutureWarning: Pass y=[ 0.01901245  0.04769897  0.02941895 ... -0.3409729  -0.3360901\n",
      " -0.37509155] as keyword args. From version 0.10 passing these as positional arguments will result in an error\n",
      "  mfcc = librosa.feature.mfcc(y,n_mfcc=21)\n",
      "C:\\Users\\high-\\AppData\\Local\\Temp/ipykernel_2520/1805278335.py:34: FutureWarning: Pass y=[ 0.01901245  0.04769897  0.02941895 ... -0.3409729  -0.3360901\n",
      " -0.37509155] as keyword args. From version 0.10 passing these as positional arguments will result in an error\n",
      "  dict_agg_features['tempo'] = librosa.beat.tempo(y, sr=sr)[0]\n",
      "C:\\Users\\high-\\AppData\\Local\\Temp/ipykernel_2520/1805278335.py:7: FutureWarning: Pass y=[-0.01300049 -0.03060913 -0.03607178 ... -0.00515747 -0.00244141\n",
      "  0.00283813] as keyword args. From version 0.10 passing these as positional arguments will result in an error\n",
      "  features['centroid'] = librosa.feature.spectral_centroid(y, sr=sr)\n",
      "C:\\Users\\high-\\AppData\\Local\\Temp/ipykernel_2520/1805278335.py:8: FutureWarning: Pass y=[-0.01300049 -0.03060913 -0.03607178 ... -0.00515747 -0.00244141\n",
      "  0.00283813] as keyword args. From version 0.10 passing these as positional arguments will result in an error\n",
      "  features['rolloff'] = librosa.feature.spectral_rolloff(y, sr=sr)\n",
      "C:\\Users\\high-\\AppData\\Local\\Temp/ipykernel_2520/1805278335.py:9: FutureWarning: Pass y=[-0.01300049 -0.03060913 -0.03607178 ... -0.00515747 -0.00244141\n",
      "  0.00283813] as keyword args. From version 0.10 passing these as positional arguments will result in an error\n",
      "  features['contrast'] = librosa.feature.spectral_contrast(y, sr=sr)\n",
      "C:\\Users\\high-\\AppData\\Local\\Temp/ipykernel_2520/1805278335.py:10: FutureWarning: Pass y=[-0.01300049 -0.03060913 -0.03607178 ... -0.00515747 -0.00244141\n",
      "  0.00283813] as keyword args. From version 0.10 passing these as positional arguments will result in an error\n",
      "  features['bandwidth'] = librosa.feature.spectral_bandwidth(y, sr=sr)\n"
     ]
    },
    {
     "name": "stderr",
     "output_type": "stream",
     "text": [
      "C:\\Users\\high-\\AppData\\Local\\Temp/ipykernel_2520/1805278335.py:11: FutureWarning: Pass y=[-0.01300049 -0.03060913 -0.03607178 ... -0.00515747 -0.00244141\n",
      "  0.00283813] as keyword args. From version 0.10 passing these as positional arguments will result in an error\n",
      "  features['flatness'] = librosa.feature.spectral_flatness(y)\n",
      "C:\\Users\\high-\\AppData\\Local\\Temp/ipykernel_2520/1805278335.py:13: FutureWarning: Pass y=[-0.01300049 -0.03060913 -0.03607178 ... -0.00515747 -0.00244141\n",
      "  0.00283813] as keyword args. From version 0.10 passing these as positional arguments will result in an error\n",
      "  features['rmse'] = librosa.feature.rms(y)\n",
      "C:\\Users\\high-\\AppData\\Local\\Temp/ipykernel_2520/1805278335.py:19: FutureWarning: Pass y=[-0.01300049 -0.03060913 -0.03607178 ... -0.00515747 -0.00244141\n",
      "  0.00283813] as keyword args. From version 0.10 passing these as positional arguments will result in an error\n",
      "  mfcc = librosa.feature.mfcc(y,n_mfcc=21)\n",
      "C:\\Users\\high-\\AppData\\Local\\Temp/ipykernel_2520/1805278335.py:34: FutureWarning: Pass y=[-0.01300049 -0.03060913 -0.03607178 ... -0.00515747 -0.00244141\n",
      "  0.00283813] as keyword args. From version 0.10 passing these as positional arguments will result in an error\n",
      "  dict_agg_features['tempo'] = librosa.beat.tempo(y, sr=sr)[0]\n"
     ]
    },
    {
     "ename": "KeyboardInterrupt",
     "evalue": "",
     "output_type": "error",
     "traceback": [
      "\u001b[1;31m---------------------------------------------------------------------------\u001b[0m",
      "\u001b[1;31mKeyboardInterrupt\u001b[0m                         Traceback (most recent call last)",
      "\u001b[1;32m<timed exec>\u001b[0m in \u001b[0;36m<module>\u001b[1;34m\u001b[0m\n",
      "\u001b[1;32m~\\AppData\\Local\\Temp/ipykernel_2520/3509288468.py\u001b[0m in \u001b[0;36mread_process_songs\u001b[1;34m(src_dir, debug)\u001b[0m\n\u001b[0;32m     18\u001b[0m \u001b[1;33m\u001b[0m\u001b[0m\n\u001b[0;32m     19\u001b[0m                 \u001b[1;31m# Append the result to the data structure\u001b[0m\u001b[1;33m\u001b[0m\u001b[1;33m\u001b[0m\u001b[1;33m\u001b[0m\u001b[0m\n\u001b[1;32m---> 20\u001b[1;33m                 \u001b[0mfeatures\u001b[0m \u001b[1;33m=\u001b[0m \u001b[0mget_features\u001b[0m\u001b[1;33m(\u001b[0m\u001b[0msignal\u001b[0m\u001b[1;33m,\u001b[0m \u001b[0msr\u001b[0m\u001b[1;33m)\u001b[0m\u001b[1;33m\u001b[0m\u001b[1;33m\u001b[0m\u001b[0m\n\u001b[0m\u001b[0;32m     21\u001b[0m                 \u001b[0mfeatures\u001b[0m\u001b[1;33m[\u001b[0m\u001b[1;34m'genre'\u001b[0m\u001b[1;33m]\u001b[0m \u001b[1;33m=\u001b[0m \u001b[0mx\u001b[0m\u001b[1;33m\u001b[0m\u001b[1;33m\u001b[0m\u001b[0m\n\u001b[0;32m     22\u001b[0m                 \u001b[0marr_features\u001b[0m\u001b[1;33m.\u001b[0m\u001b[0mappend\u001b[0m\u001b[1;33m(\u001b[0m\u001b[0mfeatures\u001b[0m\u001b[1;33m)\u001b[0m\u001b[1;33m\u001b[0m\u001b[1;33m\u001b[0m\u001b[0m\n",
      "\u001b[1;32m~\\AppData\\Local\\Temp/ipykernel_2520/1805278335.py\u001b[0m in \u001b[0;36mget_features\u001b[1;34m(y, sr)\u001b[0m\n\u001b[0;32m     32\u001b[0m \u001b[1;33m\u001b[0m\u001b[0m\n\u001b[0;32m     33\u001b[0m     \u001b[0mdict_agg_features\u001b[0m \u001b[1;33m=\u001b[0m \u001b[0mget_moments\u001b[0m\u001b[1;33m(\u001b[0m\u001b[0mfeatures\u001b[0m\u001b[1;33m)\u001b[0m\u001b[1;33m\u001b[0m\u001b[1;33m\u001b[0m\u001b[0m\n\u001b[1;32m---> 34\u001b[1;33m     \u001b[0mdict_agg_features\u001b[0m\u001b[1;33m[\u001b[0m\u001b[1;34m'tempo'\u001b[0m\u001b[1;33m]\u001b[0m \u001b[1;33m=\u001b[0m \u001b[0mlibrosa\u001b[0m\u001b[1;33m.\u001b[0m\u001b[0mbeat\u001b[0m\u001b[1;33m.\u001b[0m\u001b[0mtempo\u001b[0m\u001b[1;33m(\u001b[0m\u001b[0my\u001b[0m\u001b[1;33m,\u001b[0m \u001b[0msr\u001b[0m\u001b[1;33m=\u001b[0m\u001b[0msr\u001b[0m\u001b[1;33m)\u001b[0m\u001b[1;33m[\u001b[0m\u001b[1;36m0\u001b[0m\u001b[1;33m]\u001b[0m\u001b[1;33m\u001b[0m\u001b[1;33m\u001b[0m\u001b[0m\n\u001b[0m\u001b[0;32m     35\u001b[0m \u001b[1;33m\u001b[0m\u001b[0m\n\u001b[0;32m     36\u001b[0m     \u001b[1;32mreturn\u001b[0m \u001b[0mdict_agg_features\u001b[0m\u001b[1;33m\u001b[0m\u001b[1;33m\u001b[0m\u001b[0m\n",
      "\u001b[1;32m~\\anaconda3\\lib\\site-packages\\librosa\\util\\decorators.py\u001b[0m in \u001b[0;36minner_f\u001b[1;34m(*args, **kwargs)\u001b[0m\n\u001b[0;32m    102\u001b[0m             )\n\u001b[0;32m    103\u001b[0m             \u001b[0mkwargs\u001b[0m\u001b[1;33m.\u001b[0m\u001b[0mupdate\u001b[0m\u001b[1;33m(\u001b[0m\u001b[0mzip\u001b[0m\u001b[1;33m(\u001b[0m\u001b[0msig\u001b[0m\u001b[1;33m.\u001b[0m\u001b[0mparameters\u001b[0m\u001b[1;33m,\u001b[0m \u001b[0margs\u001b[0m\u001b[1;33m)\u001b[0m\u001b[1;33m)\u001b[0m\u001b[1;33m\u001b[0m\u001b[1;33m\u001b[0m\u001b[0m\n\u001b[1;32m--> 104\u001b[1;33m             \u001b[1;32mreturn\u001b[0m \u001b[0mf\u001b[0m\u001b[1;33m(\u001b[0m\u001b[1;33m**\u001b[0m\u001b[0mkwargs\u001b[0m\u001b[1;33m)\u001b[0m\u001b[1;33m\u001b[0m\u001b[1;33m\u001b[0m\u001b[0m\n\u001b[0m\u001b[0;32m    105\u001b[0m \u001b[1;33m\u001b[0m\u001b[0m\n\u001b[0;32m    106\u001b[0m         \u001b[1;32mreturn\u001b[0m \u001b[0minner_f\u001b[0m\u001b[1;33m\u001b[0m\u001b[1;33m\u001b[0m\u001b[0m\n",
      "\u001b[1;32m~\\anaconda3\\lib\\site-packages\\librosa\\beat.py\u001b[0m in \u001b[0;36mtempo\u001b[1;34m(y, sr, onset_envelope, hop_length, start_bpm, std_bpm, ac_size, max_tempo, aggregate, prior)\u001b[0m\n\u001b[0;32m    324\u001b[0m     \u001b[0mwin_length\u001b[0m \u001b[1;33m=\u001b[0m \u001b[0mcore\u001b[0m\u001b[1;33m.\u001b[0m\u001b[0mtime_to_frames\u001b[0m\u001b[1;33m(\u001b[0m\u001b[0mac_size\u001b[0m\u001b[1;33m,\u001b[0m \u001b[0msr\u001b[0m\u001b[1;33m=\u001b[0m\u001b[0msr\u001b[0m\u001b[1;33m,\u001b[0m \u001b[0mhop_length\u001b[0m\u001b[1;33m=\u001b[0m\u001b[0mhop_length\u001b[0m\u001b[1;33m)\u001b[0m\u001b[1;33m.\u001b[0m\u001b[0mitem\u001b[0m\u001b[1;33m(\u001b[0m\u001b[1;33m)\u001b[0m\u001b[1;33m\u001b[0m\u001b[1;33m\u001b[0m\u001b[0m\n\u001b[0;32m    325\u001b[0m \u001b[1;33m\u001b[0m\u001b[0m\n\u001b[1;32m--> 326\u001b[1;33m     tg = tempogram(\n\u001b[0m\u001b[0;32m    327\u001b[0m         \u001b[0my\u001b[0m\u001b[1;33m=\u001b[0m\u001b[0my\u001b[0m\u001b[1;33m,\u001b[0m\u001b[1;33m\u001b[0m\u001b[1;33m\u001b[0m\u001b[0m\n\u001b[0;32m    328\u001b[0m         \u001b[0msr\u001b[0m\u001b[1;33m=\u001b[0m\u001b[0msr\u001b[0m\u001b[1;33m,\u001b[0m\u001b[1;33m\u001b[0m\u001b[1;33m\u001b[0m\u001b[0m\n",
      "\u001b[1;32m~\\anaconda3\\lib\\site-packages\\librosa\\util\\decorators.py\u001b[0m in \u001b[0;36minner_f\u001b[1;34m(*args, **kwargs)\u001b[0m\n\u001b[0;32m     86\u001b[0m             \u001b[0mextra_args\u001b[0m \u001b[1;33m=\u001b[0m \u001b[0mlen\u001b[0m\u001b[1;33m(\u001b[0m\u001b[0margs\u001b[0m\u001b[1;33m)\u001b[0m \u001b[1;33m-\u001b[0m \u001b[0mlen\u001b[0m\u001b[1;33m(\u001b[0m\u001b[0mall_args\u001b[0m\u001b[1;33m)\u001b[0m\u001b[1;33m\u001b[0m\u001b[1;33m\u001b[0m\u001b[0m\n\u001b[0;32m     87\u001b[0m             \u001b[1;32mif\u001b[0m \u001b[0mextra_args\u001b[0m \u001b[1;33m<=\u001b[0m \u001b[1;36m0\u001b[0m\u001b[1;33m:\u001b[0m\u001b[1;33m\u001b[0m\u001b[1;33m\u001b[0m\u001b[0m\n\u001b[1;32m---> 88\u001b[1;33m                 \u001b[1;32mreturn\u001b[0m \u001b[0mf\u001b[0m\u001b[1;33m(\u001b[0m\u001b[1;33m*\u001b[0m\u001b[0margs\u001b[0m\u001b[1;33m,\u001b[0m \u001b[1;33m**\u001b[0m\u001b[0mkwargs\u001b[0m\u001b[1;33m)\u001b[0m\u001b[1;33m\u001b[0m\u001b[1;33m\u001b[0m\u001b[0m\n\u001b[0m\u001b[0;32m     89\u001b[0m \u001b[1;33m\u001b[0m\u001b[0m\n\u001b[0;32m     90\u001b[0m             \u001b[1;31m# extra_args > 0\u001b[0m\u001b[1;33m\u001b[0m\u001b[1;33m\u001b[0m\u001b[1;33m\u001b[0m\u001b[0m\n",
      "\u001b[1;32m~\\anaconda3\\lib\\site-packages\\librosa\\feature\\rhythm.py\u001b[0m in \u001b[0;36mtempogram\u001b[1;34m(y, sr, onset_envelope, hop_length, win_length, center, window, norm)\u001b[0m\n\u001b[0;32m    171\u001b[0m     \u001b[1;31m# Window, autocorrelate, and normalize\u001b[0m\u001b[1;33m\u001b[0m\u001b[1;33m\u001b[0m\u001b[1;33m\u001b[0m\u001b[0m\n\u001b[0;32m    172\u001b[0m     return util.normalize(\n\u001b[1;32m--> 173\u001b[1;33m         \u001b[0mautocorrelate\u001b[0m\u001b[1;33m(\u001b[0m\u001b[0modf_frame\u001b[0m \u001b[1;33m*\u001b[0m \u001b[0mac_window\u001b[0m\u001b[1;33m,\u001b[0m \u001b[0maxis\u001b[0m\u001b[1;33m=\u001b[0m\u001b[1;33m-\u001b[0m\u001b[1;36m2\u001b[0m\u001b[1;33m)\u001b[0m\u001b[1;33m,\u001b[0m \u001b[0mnorm\u001b[0m\u001b[1;33m=\u001b[0m\u001b[0mnorm\u001b[0m\u001b[1;33m,\u001b[0m \u001b[0maxis\u001b[0m\u001b[1;33m=\u001b[0m\u001b[1;33m-\u001b[0m\u001b[1;36m2\u001b[0m\u001b[1;33m\u001b[0m\u001b[1;33m\u001b[0m\u001b[0m\n\u001b[0m\u001b[0;32m    174\u001b[0m     )\n\u001b[0;32m    175\u001b[0m \u001b[1;33m\u001b[0m\u001b[0m\n",
      "\u001b[1;32m~\\anaconda3\\lib\\site-packages\\librosa\\util\\decorators.py\u001b[0m in \u001b[0;36minner_f\u001b[1;34m(*args, **kwargs)\u001b[0m\n\u001b[0;32m     86\u001b[0m             \u001b[0mextra_args\u001b[0m \u001b[1;33m=\u001b[0m \u001b[0mlen\u001b[0m\u001b[1;33m(\u001b[0m\u001b[0margs\u001b[0m\u001b[1;33m)\u001b[0m \u001b[1;33m-\u001b[0m \u001b[0mlen\u001b[0m\u001b[1;33m(\u001b[0m\u001b[0mall_args\u001b[0m\u001b[1;33m)\u001b[0m\u001b[1;33m\u001b[0m\u001b[1;33m\u001b[0m\u001b[0m\n\u001b[0;32m     87\u001b[0m             \u001b[1;32mif\u001b[0m \u001b[0mextra_args\u001b[0m \u001b[1;33m<=\u001b[0m \u001b[1;36m0\u001b[0m\u001b[1;33m:\u001b[0m\u001b[1;33m\u001b[0m\u001b[1;33m\u001b[0m\u001b[0m\n\u001b[1;32m---> 88\u001b[1;33m                 \u001b[1;32mreturn\u001b[0m \u001b[0mf\u001b[0m\u001b[1;33m(\u001b[0m\u001b[1;33m*\u001b[0m\u001b[0margs\u001b[0m\u001b[1;33m,\u001b[0m \u001b[1;33m**\u001b[0m\u001b[0mkwargs\u001b[0m\u001b[1;33m)\u001b[0m\u001b[1;33m\u001b[0m\u001b[1;33m\u001b[0m\u001b[0m\n\u001b[0m\u001b[0;32m     89\u001b[0m \u001b[1;33m\u001b[0m\u001b[0m\n\u001b[0;32m     90\u001b[0m             \u001b[1;31m# extra_args > 0\u001b[0m\u001b[1;33m\u001b[0m\u001b[1;33m\u001b[0m\u001b[1;33m\u001b[0m\u001b[0m\n",
      "\u001b[1;32m~\\anaconda3\\lib\\site-packages\\librosa\\core\\audio.py\u001b[0m in \u001b[0;36mautocorrelate\u001b[1;34m(y, max_size, axis)\u001b[0m\n\u001b[0;32m    822\u001b[0m     \u001b[1;31m# Pad out the signal to support full-length auto-correlation.\u001b[0m\u001b[1;33m\u001b[0m\u001b[1;33m\u001b[0m\u001b[1;33m\u001b[0m\u001b[0m\n\u001b[0;32m    823\u001b[0m     \u001b[0mfft\u001b[0m \u001b[1;33m=\u001b[0m \u001b[0mget_fftlib\u001b[0m\u001b[1;33m(\u001b[0m\u001b[1;33m)\u001b[0m\u001b[1;33m\u001b[0m\u001b[1;33m\u001b[0m\u001b[0m\n\u001b[1;32m--> 824\u001b[1;33m     \u001b[0mpowspec\u001b[0m \u001b[1;33m=\u001b[0m \u001b[0mnp\u001b[0m\u001b[1;33m.\u001b[0m\u001b[0mabs\u001b[0m\u001b[1;33m(\u001b[0m\u001b[0mfft\u001b[0m\u001b[1;33m.\u001b[0m\u001b[0mfft\u001b[0m\u001b[1;33m(\u001b[0m\u001b[0my\u001b[0m\u001b[1;33m,\u001b[0m \u001b[0mn\u001b[0m\u001b[1;33m=\u001b[0m\u001b[1;36m2\u001b[0m \u001b[1;33m*\u001b[0m \u001b[0my\u001b[0m\u001b[1;33m.\u001b[0m\u001b[0mshape\u001b[0m\u001b[1;33m[\u001b[0m\u001b[0maxis\u001b[0m\u001b[1;33m]\u001b[0m \u001b[1;33m+\u001b[0m \u001b[1;36m1\u001b[0m\u001b[1;33m,\u001b[0m \u001b[0maxis\u001b[0m\u001b[1;33m=\u001b[0m\u001b[0maxis\u001b[0m\u001b[1;33m)\u001b[0m\u001b[1;33m)\u001b[0m \u001b[1;33m**\u001b[0m \u001b[1;36m2\u001b[0m\u001b[1;33m\u001b[0m\u001b[1;33m\u001b[0m\u001b[0m\n\u001b[0m\u001b[0;32m    825\u001b[0m \u001b[1;33m\u001b[0m\u001b[0m\n\u001b[0;32m    826\u001b[0m     \u001b[1;31m# Convert back to time domain\u001b[0m\u001b[1;33m\u001b[0m\u001b[1;33m\u001b[0m\u001b[1;33m\u001b[0m\u001b[0m\n",
      "\u001b[1;31mKeyboardInterrupt\u001b[0m: "
     ]
    }
   ],
   "source": [
    "%%time\n",
    "\n",
    "# Get list of dicts with features and convert to dataframe\n",
    "features = read_process_songs(gtzan_dir, debug=False)"
   ]
  },
  {
   "cell_type": "code",
   "execution_count": null,
   "metadata": {},
   "outputs": [],
   "source": [
    "df_features = pd.DataFrame(features)"
   ]
  },
  {
   "cell_type": "code",
   "execution_count": null,
   "metadata": {},
   "outputs": [],
   "source": [
    "df_features.head()"
   ]
  },
  {
   "cell_type": "code",
   "execution_count": null,
   "metadata": {},
   "outputs": [],
   "source": [
    "df_features.to_csv('gtzan_features.csv', index=False)"
   ]
  },
  {
   "cell_type": "code",
   "execution_count": null,
   "metadata": {},
   "outputs": [],
   "source": []
  }
 ],
 "metadata": {
  "kernelspec": {
   "display_name": "Python 3 (ipykernel)",
   "language": "python",
   "name": "python3"
  },
  "language_info": {
   "codemirror_mode": {
    "name": "ipython",
    "version": 3
   },
   "file_extension": ".py",
   "mimetype": "text/x-python",
   "name": "python",
   "nbconvert_exporter": "python",
   "pygments_lexer": "ipython3",
   "version": "3.8.5"
  }
 },
 "nbformat": 4,
 "nbformat_minor": 4
}
